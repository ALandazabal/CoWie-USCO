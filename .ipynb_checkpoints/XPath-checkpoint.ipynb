{
 "cells": [
  {
   "cell_type": "code",
   "execution_count": 1,
   "metadata": {},
   "outputs": [
    {
     "name": "stdout",
     "output_type": "stream",
     "text": [
      "Error: 404\n"
     ]
    }
   ],
   "source": [
    "import requests\n",
    "import lxml.html as html\n",
    "import os\n",
    "import datetime\n",
    "\n",
    "HOME_URL = 'https://www.larepublica.co/'\n",
    "\n",
    "\"\"\" XPATH_LINK_TO_ARTICLE = '//h2[@class=headline]/a/@href' \n",
    "XPATH_TITLE = '//h1[@class=\"headline\"]/a/text()'\n",
    "XPATH_SUMMARY = '//div[@class=\"lead\"]/p/text()'\n",
    "XPATH_BODY = '//div[@class=\"articleWrapper \"]/p[not(@class)]/text()'\"\"\"\n",
    "XPATH_LINK_TO_ARTICLE = '//h2/a/@href'\n",
    "XPATH_TITLE = '//*[@id=\"vue-container\"]/div[3]/div[1]/div[2]/h2/a/text()'\n",
    "XPATH_SUMMARY = '//*[@id=\"proportional-anchor-1\"]/div[1]/div[2]/p/text()'\n",
    "XPATH_BODY = '//*[@id=\"proportional-anchor-1\"]/div[1]/div[4]/p/text()'\n",
    "\n",
    "def parse_notice(link, today):\n",
    "    try:\n",
    "        response = requests.get(link)\n",
    "        \n",
    "        if response.status_code == 200:\n",
    "            notice = response.content.decode('utf-8')\n",
    "            parsed = html.fromstring(notice)\n",
    "            \n",
    "            try:\n",
    "                title = parsed.xpath(XPATH_TITLE)[0]\n",
    "                title = title.replace('\\\"', '')\n",
    "                print(title)\n",
    "                \n",
    "                summary = parsed.xpath(XPATH_SUMMARY)[0]\n",
    "                body = parsed.xpath(XPATH_BODY)\n",
    "            except IndexError:\n",
    "                return\n",
    "\n",
    "            with open(f'{today}/{title}.txt','w', encoding='utf-8') as f:\n",
    "                \n",
    "                f.write(title)\n",
    "                f.write('\\n\\n')\n",
    "                f.write(summary)\n",
    "                f.write('\\n\\n')\n",
    "                for p in body:\n",
    "                    f.write(p)\n",
    "                    f.write('\\n')\n",
    "        else:\n",
    "            raise ValueError(f'Error: {response.status_code}')\n",
    "    except ValueError as ve:\n",
    "        print(ve)\n",
    "\n",
    "\n",
    "def parse_home():\n",
    "    try:\n",
    "        response = requests.get(HOME_URL)\n",
    "        if response.status_code == 200:\n",
    "            home = response.content.decode('utf-8')\n",
    "            parsed = html.fromstring(home)\n",
    "            links_to_notices = parsed.xpath(XPATH_LINK_TO_ARTICLE)\n",
    "            #print(links_to_notices)\n",
    "\n",
    "            today = datetime.date.today().strftime('%d-%m-%y')\n",
    "            if not os.path.isdir(today):\n",
    "                os.mkdir(today)\n",
    "\n",
    "            for link in links_to_notices:\n",
    "                parse_notice(link, today)\n",
    "        else:\n",
    "            raise ValueError(f'Error: {response.status_code}')\n",
    "    except ValueError as ve:\n",
    "        print(ve)\n",
    "\n",
    "\n",
    "def run():\n",
    "    parse_home()\n",
    "\n",
    "\n",
    "if __name__ == '__main__':\n",
    "    run()"
   ]
  },
  {
   "cell_type": "code",
   "execution_count": null,
   "metadata": {},
   "outputs": [],
   "source": [
    "def parse_notice(link, today):\n",
    "    try:\n",
    "        response = requests.get('https://wieusco.github.io/cowie-inspire/')\n",
    "        \n",
    "        if response.status_code == 200:\n",
    "            notice = response.content.decode('utf-8')\n",
    "            parsed = html.fromstring(notice)\n",
    "            \n",
    "            print(parsed)\n",
    "        else:\n",
    "            raise ValueError(f'Error: {response.status_code}')\n",
    "    except ValueError as ve:\n",
    "        print(ve)\n"
   ]
  }
 ],
 "metadata": {
  "kernelspec": {
   "display_name": "Python 3",
   "language": "python",
   "name": "python3"
  },
  "language_info": {
   "codemirror_mode": {
    "name": "ipython",
    "version": 3
   },
   "file_extension": ".py",
   "mimetype": "text/x-python",
   "name": "python",
   "nbconvert_exporter": "python",
   "pygments_lexer": "ipython3",
   "version": "3.7.6"
  }
 },
 "nbformat": 4,
 "nbformat_minor": 4
}
