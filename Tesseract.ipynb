{
 "cells": [
  {
   "cell_type": "code",
   "execution_count": 4,
   "metadata": {},
   "outputs": [
    {
     "name": "stdout",
     "output_type": "stream",
     "text": [
      "El texto expositivo,\n",
      "\n",
      "Un buen texto expositivo es un\n",
      "texto en prosa en el cual el\n",
      "autor presenta información,\n",
      "\n",
      "incluye explicaciones que\n",
      "permiten que se entienda la\n",
      "información presentada\n"
     ]
    }
   ],
   "source": [
    "import pytesseract\n",
    "#pip install pytesseract\n",
    "#https://github.com/tesseract-ocr/tesseract/wiki\n",
    "from PIL import Image\n",
    "\n",
    "pytesseract.pytesseract.tesseract_cmd = r'C:\\Program Files\\Tesseract-OCR\\tesseract'\n",
    "\n",
    "image = Image.open('texto-img.png')\n",
    "text = pytesseract.image_to_string(image, lang='spa')\n",
    "print(text)"
   ]
  },
  {
   "cell_type": "code",
   "execution_count": null,
   "metadata": {},
   "outputs": [],
   "source": []
  }
 ],
 "metadata": {
  "kernelspec": {
   "display_name": "Python 3",
   "language": "python",
   "name": "python3"
  },
  "language_info": {
   "codemirror_mode": {
    "name": "ipython",
    "version": 3
   },
   "file_extension": ".py",
   "mimetype": "text/x-python",
   "name": "python",
   "nbconvert_exporter": "python",
   "pygments_lexer": "ipython3",
   "version": "3.7.6"
  }
 },
 "nbformat": 4,
 "nbformat_minor": 4
}
