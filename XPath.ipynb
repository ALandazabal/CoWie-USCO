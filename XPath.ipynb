{
 "cells": [
  {
   "cell_type": "code",
   "execution_count": 13,
   "metadata": {},
   "outputs": [],
   "source": [
    "import requests\n",
    "import lxml.html as html\n",
    "\n",
    "url = 'https://wieusco.github.io/cowie-inspire/'\n",
    "\n",
    "def parse_wiepage(XPath):\n",
    "    try:\n",
    "        response = requests.get(url)\n",
    "        \n",
    "        if response.status_code == 200:\n",
    "            content = response.content.decode('utf-8')\n",
    "            parsed = html.fromstring(content)\n",
    "            text = parsed.xpath(XPath)\n",
    "            \n",
    "            print(text)\n",
    "        else:\n",
    "            raise ValueError(f'Error: {response.status_code}')\n",
    "    except ValueError as ve:\n",
    "        print(ve)"
   ]
  },
  {
   "cell_type": "code",
   "execution_count": 14,
   "metadata": {},
   "outputs": [
    {
     "name": "stdout",
     "output_type": "stream",
     "text": [
      "['Te esperamos']\n"
     ]
    }
   ],
   "source": [
    "#Título\n",
    "parse_wiepage('//h1/text()')"
   ]
  },
  {
   "cell_type": "code",
   "execution_count": 15,
   "metadata": {},
   "outputs": [
    {
     "name": "stdout",
     "output_type": "stream",
     "text": [
      "['Evento', 'Ponentes', 'Programa', 'Equipo']\n"
     ]
    }
   ],
   "source": [
    "#Menú\n",
    "parse_wiepage('//ul[@class=\"site-menu main-menu js-clone-nav mr-auto d-none d-lg-block\"]/li/a/text()')"
   ]
  },
  {
   "cell_type": "code",
   "execution_count": 16,
   "metadata": {},
   "outputs": [
    {
     "name": "stdout",
     "output_type": "stream",
     "text": [
      "['Angélica Lesmes', 'Heidy Rincón', 'Karen Cerón', 'Laura Losada', 'Luna Lugo', 'María Del Mar Ardila', 'María Paula Mora', 'Nathalie Cabrera', 'Tannia Hernandez']\n"
     ]
    }
   ],
   "source": [
    "#Equipo\n",
    "parse_wiepage('//*[@id=\"equipo-section\"]/div/div[2]/div/div/span/text()')"
   ]
  },
  {
   "cell_type": "code",
   "execution_count": 17,
   "metadata": {},
   "outputs": [
    {
     "name": "stdout",
     "output_type": "stream",
     "text": [
      "['images/ponentes/barbarita.jpg']\n"
     ]
    }
   ],
   "source": [
    "#Imagen ponente\n",
    "parse_wiepage('//*[@id=\"ponentes-section\"]/div/div/div[2]/div/div[1]/div/img/@src')"
   ]
  },
  {
   "cell_type": "code",
   "execution_count": 18,
   "metadata": {},
   "outputs": [],
   "source": [
    "import csv\n",
    "\n",
    "url = 'https://wieusco.github.io/cowie-inspire/'\n",
    "\n",
    "def parse_wiepage_speakers():\n",
    "    try:\n",
    "        response = requests.get(url)\n",
    "        \n",
    "        if response.status_code == 200:\n",
    "            content = response.content.decode('utf-8')\n",
    "            parsed = html.fromstring(content)\n",
    "            #text = parsed.xpath(XPath)\n",
    "            with open('Cwie.csv', 'w', newline='', encoding=\"utf-8\") as file:\n",
    "                writer = csv.writer(file)\n",
    "                writer.writerow([\"Name\", \"Image\", \"Description\", \"Social\"])\n",
    "                for i in range(3,11):\n",
    "                    name = parsed.xpath(f'//*[@id=\"ponentes-section\"]/div/div/div[{i}]/div/div[2]/div/span/text()')[0]\n",
    "                    print(name)\n",
    "                    img = parsed.xpath(f'//*[@id=\"ponentes-section\"]/div/div/div[{i}]/div/div[1]/div/img/@src')[0]\n",
    "                    print(img)\n",
    "                    description = parsed.xpath(f'//*[@id=\"ponentes-section\"]/div/div/div[{i}]/div/div[2]/p/text()')[0]\n",
    "                    print(description)\n",
    "                    social = parsed.xpath(f'//*[@id=\"ponentes-section\"]/div/div/div[{i}]/div/div[3]/a[1]/@href')[0]\n",
    "                    print(social)\n",
    "                    print('\\n\\n')\n",
    "                    data = [name, img, description, social]\n",
    "                    writer.writerow(data)\n",
    "                \n",
    "        else:\n",
    "            raise ValueError(f'Error: {response.status_code}')\n",
    "    except ValueError as ve:\n",
    "        print(ve)"
   ]
  },
  {
   "cell_type": "code",
   "execution_count": 19,
   "metadata": {},
   "outputs": [
    {
     "name": "stdout",
     "output_type": "stream",
     "text": [
      "ANNA REIG\n",
      "images/ponentes/anna.jpg\n",
      "Mi nombre es Anna Reig y soy Ingeniera de Telecomunicaciones e Ingeniera Aeronáutica por la \n",
      "                                    Universidad Politécnica de Catalunya (España). Actualmente estoy terminando un máster de Logística \n",
      "                                    y Cadena de Suministro (Supply Chain) en Cranfield University (Reino Unido) al mismo tiempo que he \n",
      "                                    empezado un MBA online en ThePowerMBA. Quedé primera en ambas promociones de Ingeniería e hice un \n",
      "                                    trabajo de final de estudios llamado \"A diagnostic and prevention system for mosquito-transmitted \n",
      "                                    diseases\"\n",
      "    \n",
      "                                    \n",
      "https://twitter.com/annnareig\n",
      "\n",
      "\n",
      "\n",
      "MARIA VILLARROYA\n",
      "images/ponentes/mariavillarroya.png\n",
      "María Villarroya Gaudó (Soria, 1977)Licenciada en Ciencias Físicas en la Universidad de Zaragoza (2000)\n",
      "                                    y doctora por la Universidad Autónoma de Barcelona (2005), en el programa de doctorado de Ingeniería Electrónica.\n",
      "                                    Entre 2001 y 2003 estuvo como investigadora en el Departamento de Ingeniería electrónica de la UAB. En 2003 \n",
      "                                    se incorporó a la Universidad de Zaragoza, en la actualidad es Profesora Titular del área de Arquitectura \n",
      "                                    y Tecnología de Computadores de la Escuela de Ingeniería y Arquitectura.\n",
      "    \n",
      "                                    \n",
      "linkedin.com/in/maria-villarroya-gaudó-8674b921\n",
      "\n",
      "\n",
      "\n",
      "GIOVANNA RAMIREZ\n",
      "images/ponentes/giovana.jpg\n",
      "Ingeniera Electrónica de la Escuela Colombiana de Ingeniería Julio Garavito. \n",
      "                                    Estudiante de maestría en Desarrollo y Gerencia Integral de Proyectos. Actual presidente \n",
      "                                    del capítulo profesional Aerospace & Electronic Systems Society (AESS- IEEE). Investigadora \n",
      "                                    y desarrolladora de una misión espacial colombiana en Japón a través de un satélite. \n",
      "                                    Ha participado en diferentes proyectos de investigación con la Fuerza Aérea Colombiana, \n",
      "                                    El Consorcio Global Espacial, IEEE y NASA.\n",
      "    \n",
      "                                    \n",
      "https://www.facebook.com/Giovis941\n",
      "\n",
      "\n",
      "\n",
      "ANGELICA LANDAZABAL\n",
      "images/ponentes/angelica.jpg\n",
      "Soy ingeniera en informática y amante de la tecnología.  He participado cómo voluntaria, \n",
      "                                    mentora y speaker en diferentes eventos TIC.  Me gusta enseñar a las personas a entender \n",
      "                                    conceptos sobre programación y diseño (aunque en cocina y karate también :D ); y si no sé \n",
      "                                    la respuesta, ¡no importa! La investigamos en la web ;).\n",
      "    \n",
      "                                    \n",
      "https://twitter.com/ALandazabal15\n",
      "\n",
      "\n",
      "\n",
      "ANA SALAZAR\n",
      "images/ponentes/anasalazar1.jpeg\n",
      "Ingeniera de Telecomunicaciones, especialista en Gerencia de Proyectos y Magister \n",
      "                                    en Gestión Tecnológica. Trabaja en la Corporación Ruta N, un centro de innovación y negocios \n",
      "                                    en la ciudad de Medellín, Colombia, como líder de proyectos en tecnologías de información y comunicaciones. \n",
      "                                    Tiene experiencia en la estructuración y ejecución de  proyectos de ciencia, tecnología e innovación. \n",
      "                                    Apasionada por la articulación y fortalecimiento de comunidades técnicas y de visibilizar el rol de la mujer en la tecnología.\n",
      "    \n",
      "                                    \n",
      "https://twitter.com/analasalazar\n",
      "\n",
      "\n",
      "\n",
      "LESLY ZERNA\n",
      "images/ponentes/lesly.jpeg\n",
      "Lesly Zerna. Google Developer Expert en Machine Learning. Mentora en Google \n",
      "                                    Launchpad. Educadora en Tecnología, dirige la comunidad MentorHer que busca incentivar \n",
      "                                    a más chicas a involucrarse en tecnología. TEDx speaker 2018. Becaria Patiño en la \n",
      "                                    maestría de Ciencias de Computación e Ingeniería en la Universidad Libre de Bruselas.\n",
      "    \n",
      "                                    \n",
      "https://twitter.com/leslysandra\n",
      "\n",
      "\n",
      "\n",
      "KAROL MEDINA\n",
      "images/ponentes/karol.png\n",
      "Ingeniera Química recién graduada de la Universidad de los Andes. \n",
      "                                    Becaria Ser Pilo Paga 2014. Participó en programas de innovación On Campus tales como \n",
      "                                    Hult Prize 2019 e Innovación con acción. Hizo parte del capítulo estudiantil de ingeniería \n",
      "                                    química de la universidad (AICHE), y participó en el Consejo Estudiantil Uniandino (CEU) \n",
      "                                    como miembro del Comité de Responsabilidad Social. Ponente del Foro de Orientación \n",
      "                                    Profesional STEM 2020 realizado por la Fundación Mujeres por Colombia.\n",
      "    \n",
      "                                    \n",
      "https://www.facebook.com/karitho.medina.1\n",
      "\n",
      "\n",
      "\n",
      "MANUELA CASTRILLÓN\n",
      "images/ponentes/manu.png\n",
      "Soy Ingeniera de Software en Skillshare y amo construir (y destruir) \n",
      "                                    cosas utilizando JavaScript. Soy GitHub Campus Expert y líder de comunidad, co-organizo GitConfCO, \n",
      "                                    Codex UdeA y Vue Vixens CO. Apasionada sobre diversidad e inclusión y sueño con un mundo donde todos tengamos acceso a la educación.\n",
      "\n",
      "    \n",
      "                                    \n",
      "https://twitter.com/ManuCastrillonM\n",
      "\n",
      "\n",
      "\n"
     ]
    }
   ],
   "source": [
    "parse_wiepage_speakers()"
   ]
  },
  {
   "cell_type": "code",
   "execution_count": null,
   "metadata": {},
   "outputs": [],
   "source": []
  }
 ],
 "metadata": {
  "kernelspec": {
   "display_name": "Python 3",
   "language": "python",
   "name": "python3"
  },
  "language_info": {
   "codemirror_mode": {
    "name": "ipython",
    "version": 3
   },
   "file_extension": ".py",
   "mimetype": "text/x-python",
   "name": "python",
   "nbconvert_exporter": "python",
   "pygments_lexer": "ipython3",
   "version": "3.7.6"
  }
 },
 "nbformat": 4,
 "nbformat_minor": 4
}
